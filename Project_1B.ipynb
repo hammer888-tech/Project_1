{
 "cells": [
  {
   "cell_type": "code",
   "execution_count": 1,
   "metadata": {},
   "outputs": [],
   "source": [
    "## Project 1B"
   ]
  },
  {
   "cell_type": "code",
   "execution_count": 12,
   "metadata": {},
   "outputs": [],
   "source": [
    "# Initial imports\n",
    "import os\n",
    "import requests\n",
    "from pathlib import Path\n",
    "import json\n",
    "import numpy as np\n",
    "import datetime as dt\n",
    "import pandas as pd\n",
    "from dotenv import load_dotenv\n",
    "import alpaca_trade_api as tradeapi\n",
    "from MCForecastTools import MCSimulation\n",
    "\n",
    "%matplotlib inline"
   ]
  },
  {
   "cell_type": "code",
   "execution_count": 13,
   "metadata": {},
   "outputs": [
    {
     "data": {
      "text/plain": [
       "True"
      ]
     },
     "execution_count": 13,
     "metadata": {},
     "output_type": "execute_result"
    }
   ],
   "source": [
    "# Load .env enviroment variables\n",
    "load_dotenv()"
   ]
  },
  {
   "cell_type": "code",
   "execution_count": 35,
   "metadata": {},
   "outputs": [],
   "source": [
    "# Set Alpaca API key and secret\n",
    "alpaca_api_key = os.getenv(\"ALPACA_API_KEY\")\n",
    "alpaca_secret_key = os.getenv(\"ALPACA_SECRET_KEY\")\n",
    "\n",
    "# Create the Alpaca API object\n",
    "alpaca = tradeapi.REST(\n",
    "    alpaca_api_key,\n",
    "    alpaca_secret_key,\n",
    "    base_url=\"https://paper-api.alpaca.markets\",\n",
    "    api_version=\"v2\")"
   ]
  },
  {
   "cell_type": "code",
   "execution_count": 56,
   "metadata": {},
   "outputs": [
    {
     "data": {
      "text/html": [
       "<div>\n",
       "<style scoped>\n",
       "    .dataframe tbody tr th:only-of-type {\n",
       "        vertical-align: middle;\n",
       "    }\n",
       "\n",
       "    .dataframe tbody tr th {\n",
       "        vertical-align: top;\n",
       "    }\n",
       "\n",
       "    .dataframe thead tr th {\n",
       "        text-align: left;\n",
       "    }\n",
       "\n",
       "    .dataframe thead tr:last-of-type th {\n",
       "        text-align: right;\n",
       "    }\n",
       "</style>\n",
       "<table border=\"1\" class=\"dataframe\">\n",
       "  <thead>\n",
       "    <tr>\n",
       "      <th></th>\n",
       "      <th colspan=\"5\" halign=\"left\">SCHZ</th>\n",
       "      <th colspan=\"5\" halign=\"left\">SPY</th>\n",
       "    </tr>\n",
       "    <tr>\n",
       "      <th></th>\n",
       "      <th>open</th>\n",
       "      <th>high</th>\n",
       "      <th>low</th>\n",
       "      <th>close</th>\n",
       "      <th>volume</th>\n",
       "      <th>open</th>\n",
       "      <th>high</th>\n",
       "      <th>low</th>\n",
       "      <th>close</th>\n",
       "      <th>volume</th>\n",
       "    </tr>\n",
       "    <tr>\n",
       "      <th>time</th>\n",
       "      <th></th>\n",
       "      <th></th>\n",
       "      <th></th>\n",
       "      <th></th>\n",
       "      <th></th>\n",
       "      <th></th>\n",
       "      <th></th>\n",
       "      <th></th>\n",
       "      <th></th>\n",
       "      <th></th>\n",
       "    </tr>\n",
       "  </thead>\n",
       "  <tbody>\n",
       "    <tr>\n",
       "      <th>2017-04-06 00:00:00-04:00</th>\n",
       "      <td>51.85</td>\n",
       "      <td>51.8500</td>\n",
       "      <td>51.750</td>\n",
       "      <td>51.840</td>\n",
       "      <td>256515.0</td>\n",
       "      <td>NaN</td>\n",
       "      <td>NaN</td>\n",
       "      <td>NaN</td>\n",
       "      <td>NaN</td>\n",
       "      <td>NaN</td>\n",
       "    </tr>\n",
       "    <tr>\n",
       "      <th>2017-04-07 00:00:00-04:00</th>\n",
       "      <td>51.91</td>\n",
       "      <td>51.9200</td>\n",
       "      <td>51.680</td>\n",
       "      <td>51.765</td>\n",
       "      <td>302885.0</td>\n",
       "      <td>NaN</td>\n",
       "      <td>NaN</td>\n",
       "      <td>NaN</td>\n",
       "      <td>NaN</td>\n",
       "      <td>NaN</td>\n",
       "    </tr>\n",
       "    <tr>\n",
       "      <th>2017-04-10 00:00:00-04:00</th>\n",
       "      <td>51.80</td>\n",
       "      <td>51.8400</td>\n",
       "      <td>51.760</td>\n",
       "      <td>51.810</td>\n",
       "      <td>459968.0</td>\n",
       "      <td>NaN</td>\n",
       "      <td>NaN</td>\n",
       "      <td>NaN</td>\n",
       "      <td>NaN</td>\n",
       "      <td>NaN</td>\n",
       "    </tr>\n",
       "    <tr>\n",
       "      <th>2017-04-11 00:00:00-04:00</th>\n",
       "      <td>51.90</td>\n",
       "      <td>51.9653</td>\n",
       "      <td>51.847</td>\n",
       "      <td>51.940</td>\n",
       "      <td>407094.0</td>\n",
       "      <td>234.87</td>\n",
       "      <td>235.18</td>\n",
       "      <td>233.34</td>\n",
       "      <td>235.04</td>\n",
       "      <td>63951745.0</td>\n",
       "    </tr>\n",
       "    <tr>\n",
       "      <th>2017-04-12 00:00:00-04:00</th>\n",
       "      <td>52.00</td>\n",
       "      <td>52.0800</td>\n",
       "      <td>51.950</td>\n",
       "      <td>52.050</td>\n",
       "      <td>443459.0</td>\n",
       "      <td>234.74</td>\n",
       "      <td>234.96</td>\n",
       "      <td>233.77</td>\n",
       "      <td>234.10</td>\n",
       "      <td>55338215.0</td>\n",
       "    </tr>\n",
       "  </tbody>\n",
       "</table>\n",
       "</div>"
      ],
      "text/plain": [
       "                            SCHZ                                        SPY  \\\n",
       "                            open     high     low   close    volume    open   \n",
       "time                                                                          \n",
       "2017-04-06 00:00:00-04:00  51.85  51.8500  51.750  51.840  256515.0     NaN   \n",
       "2017-04-07 00:00:00-04:00  51.91  51.9200  51.680  51.765  302885.0     NaN   \n",
       "2017-04-10 00:00:00-04:00  51.80  51.8400  51.760  51.810  459968.0     NaN   \n",
       "2017-04-11 00:00:00-04:00  51.90  51.9653  51.847  51.940  407094.0  234.87   \n",
       "2017-04-12 00:00:00-04:00  52.00  52.0800  51.950  52.050  443459.0  234.74   \n",
       "\n",
       "                                                               \n",
       "                             high     low   close      volume  \n",
       "time                                                           \n",
       "2017-04-06 00:00:00-04:00     NaN     NaN     NaN         NaN  \n",
       "2017-04-07 00:00:00-04:00     NaN     NaN     NaN         NaN  \n",
       "2017-04-10 00:00:00-04:00     NaN     NaN     NaN         NaN  \n",
       "2017-04-11 00:00:00-04:00  235.18  233.34  235.04  63951745.0  \n",
       "2017-04-12 00:00:00-04:00  234.96  233.77  234.10  55338215.0  "
      ]
     },
     "execution_count": 56,
     "metadata": {},
     "output_type": "execute_result"
    }
   ],
   "source": [
    "# Format current date as ISO format\n",
    "today = pd.Timestamp(\"2021-03-31\", tz=\"America/New_York\").isoformat()\n",
    "start_day = pd.Timestamp(\"2016-03-31\", tz=\"America/New_York\").isoformat()\n",
    "# need to update timeframe to 2016\n",
    "\n",
    "# Set the tickers\n",
    "tickers = [\"SCHZ\", \"SPY\"]\n",
    "\n",
    "# Set timeframe to '1D' for Alpaca API\n",
    "timeframe = \"1D\"\n",
    "\n",
    "# Get current closing prices for SPY and AGG\n",
    "ticker_data = alpaca.get_barset(\n",
    "    tickers,\n",
    "    timeframe,\n",
    "    start = start_day,\n",
    "    end = today,\n",
    "    limit = 1000\n",
    ").df\n",
    "\n",
    "# Preview DataFrame\n",
    "ticker_data.head()"
   ]
  },
  {
   "cell_type": "code",
   "execution_count": 54,
   "metadata": {},
   "outputs": [
    {
     "ename": "SyntaxError",
     "evalue": "invalid syntax (<ipython-input-54-4f1cd3f55aa0>, line 3)",
     "output_type": "error",
     "traceback": [
      "\u001b[0;36m  File \u001b[0;32m\"<ipython-input-54-4f1cd3f55aa0>\"\u001b[0;36m, line \u001b[0;32m3\u001b[0m\n\u001b[0;31m    ```\u001b[0m\n\u001b[0m    ^\u001b[0m\n\u001b[0;31mSyntaxError\u001b[0m\u001b[0;31m:\u001b[0m invalid syntax\n"
     ]
    }
   ],
   "source": [
    "#ticker_data.drop(\"open\", \"volume\")\n",
    "#ticker_data.head()\n",
    "```\n",
    "df_schz_closingprice = pd.DataFrame()\n",
    "df_schz_closingprice[\"SCHZ\"]= ticker_data[\"SCHZ\"][\"close\"]\n",
    "df_schz_closingprice.index=df_schz_closingprice.index.date\n",
    "df_schz_closingprice.head()\n",
    "```\n",
    "\n",
    "\n",
    "\n",
    "\n"
   ]
  },
  {
   "cell_type": "code",
   "execution_count": null,
   "metadata": {},
   "outputs": [],
   "source": []
  },
  {
   "cell_type": "code",
   "execution_count": 57,
   "metadata": {},
   "outputs": [
    {
     "data": {
      "text/html": [
       "<div>\n",
       "<style scoped>\n",
       "    .dataframe tbody tr th:only-of-type {\n",
       "        vertical-align: middle;\n",
       "    }\n",
       "\n",
       "    .dataframe tbody tr th {\n",
       "        vertical-align: top;\n",
       "    }\n",
       "\n",
       "    .dataframe thead th {\n",
       "        text-align: right;\n",
       "    }\n",
       "</style>\n",
       "<table border=\"1\" class=\"dataframe\">\n",
       "  <thead>\n",
       "    <tr style=\"text-align: right;\">\n",
       "      <th></th>\n",
       "      <th>SCHZ</th>\n",
       "      <th>SPY</th>\n",
       "    </tr>\n",
       "  </thead>\n",
       "  <tbody>\n",
       "    <tr>\n",
       "      <th>2017-04-06</th>\n",
       "      <td>51.840</td>\n",
       "      <td>NaN</td>\n",
       "    </tr>\n",
       "    <tr>\n",
       "      <th>2017-04-07</th>\n",
       "      <td>51.765</td>\n",
       "      <td>NaN</td>\n",
       "    </tr>\n",
       "    <tr>\n",
       "      <th>2017-04-10</th>\n",
       "      <td>51.810</td>\n",
       "      <td>NaN</td>\n",
       "    </tr>\n",
       "    <tr>\n",
       "      <th>2017-04-11</th>\n",
       "      <td>51.940</td>\n",
       "      <td>235.04</td>\n",
       "    </tr>\n",
       "    <tr>\n",
       "      <th>2017-04-12</th>\n",
       "      <td>52.050</td>\n",
       "      <td>234.10</td>\n",
       "    </tr>\n",
       "  </tbody>\n",
       "</table>\n",
       "</div>"
      ],
      "text/plain": [
       "              SCHZ     SPY\n",
       "2017-04-06  51.840     NaN\n",
       "2017-04-07  51.765     NaN\n",
       "2017-04-10  51.810     NaN\n",
       "2017-04-11  51.940  235.04\n",
       "2017-04-12  52.050  234.10"
      ]
     },
     "execution_count": 57,
     "metadata": {},
     "output_type": "execute_result"
    }
   ],
   "source": [
    "#ticker_data.drop(\"open\", \"volume\")\n",
    "#ticker_data.head()\n",
    "\n",
    "df_closingprice = pd.DataFrame()\n",
    "df_closingprice[\"SCHZ\"]= ticker_data[\"SCHZ\"][\"close\"]\n",
    "df_closingprice[\"SPY\"]= ticker_data[\"SPY\"][\"close\"]\n",
    "df_closingprice.index=df_closingprice.index.date\n",
    "df_closingprice.head()\n"
   ]
  },
  {
   "cell_type": "code",
   "execution_count": 70,
   "metadata": {},
   "outputs": [
    {
     "data": {
      "text/plain": [
       "SCHZ    0\n",
       "SPY     0\n",
       "dtype: int64"
      ]
     },
     "execution_count": 70,
     "metadata": {},
     "output_type": "execute_result"
    }
   ],
   "source": [
    "df_closingprice.isnull().sum()"
   ]
  },
  {
   "cell_type": "code",
   "execution_count": 71,
   "metadata": {},
   "outputs": [],
   "source": [
    "df_closingprice = df_closingprice.dropna().copy()"
   ]
  },
  {
   "cell_type": "code",
   "execution_count": 72,
   "metadata": {},
   "outputs": [
    {
     "data": {
      "text/plain": [
       "SCHZ    0\n",
       "SPY     0\n",
       "dtype: int64"
      ]
     },
     "execution_count": 72,
     "metadata": {},
     "output_type": "execute_result"
    }
   ],
   "source": [
    "df_closingprice.isnull().sum()"
   ]
  },
  {
   "cell_type": "code",
   "execution_count": 73,
   "metadata": {},
   "outputs": [
    {
     "data": {
      "text/plain": [
       "SCHZ    997\n",
       "SPY     997\n",
       "dtype: int64"
      ]
     },
     "execution_count": 73,
     "metadata": {},
     "output_type": "execute_result"
    }
   ],
   "source": [
    "df_closingprice.count()"
   ]
  },
  {
   "cell_type": "code",
   "execution_count": 74,
   "metadata": {},
   "outputs": [
    {
     "data": {
      "text/html": [
       "<div>\n",
       "<style scoped>\n",
       "    .dataframe tbody tr th:only-of-type {\n",
       "        vertical-align: middle;\n",
       "    }\n",
       "\n",
       "    .dataframe tbody tr th {\n",
       "        vertical-align: top;\n",
       "    }\n",
       "\n",
       "    .dataframe thead th {\n",
       "        text-align: right;\n",
       "    }\n",
       "</style>\n",
       "<table border=\"1\" class=\"dataframe\">\n",
       "  <thead>\n",
       "    <tr style=\"text-align: right;\">\n",
       "      <th></th>\n",
       "      <th>SCHZ</th>\n",
       "      <th>SPY</th>\n",
       "    </tr>\n",
       "  </thead>\n",
       "  <tbody>\n",
       "    <tr>\n",
       "      <th>2017-04-11</th>\n",
       "      <td>51.94</td>\n",
       "      <td>235.04</td>\n",
       "    </tr>\n",
       "    <tr>\n",
       "      <th>2017-04-12</th>\n",
       "      <td>52.05</td>\n",
       "      <td>234.10</td>\n",
       "    </tr>\n",
       "    <tr>\n",
       "      <th>2017-04-13</th>\n",
       "      <td>52.11</td>\n",
       "      <td>232.54</td>\n",
       "    </tr>\n",
       "    <tr>\n",
       "      <th>2017-04-17</th>\n",
       "      <td>52.11</td>\n",
       "      <td>234.57</td>\n",
       "    </tr>\n",
       "    <tr>\n",
       "      <th>2017-04-18</th>\n",
       "      <td>52.29</td>\n",
       "      <td>233.86</td>\n",
       "    </tr>\n",
       "  </tbody>\n",
       "</table>\n",
       "</div>"
      ],
      "text/plain": [
       "             SCHZ     SPY\n",
       "2017-04-11  51.94  235.04\n",
       "2017-04-12  52.05  234.10\n",
       "2017-04-13  52.11  232.54\n",
       "2017-04-17  52.11  234.57\n",
       "2017-04-18  52.29  233.86"
      ]
     },
     "execution_count": 74,
     "metadata": {},
     "output_type": "execute_result"
    }
   ],
   "source": [
    "df_closingprice.head()"
   ]
  },
  {
   "cell_type": "code",
   "execution_count": null,
   "metadata": {},
   "outputs": [],
   "source": []
  },
  {
   "cell_type": "code",
   "execution_count": 79,
   "metadata": {},
   "outputs": [
    {
     "name": "stdout",
     "output_type": "stream",
     "text": [
      "85.0918992511913\n",
      "1540.2387370042356\n"
     ]
    }
   ],
   "source": [
    "#Calculating initial traditional Income portfolio asset quantities\n",
    "income_portfolio_amount = 100000\n",
    "income_spy_percentage = 0.2\n",
    "income_schz_percentage = 0.8\n",
    "spy_close_price = df_closingprice[\"SPY\"][0]\n",
    "schz_close_price = df_closingprice[\"SCHZ\"][0]\n",
    "income_spy = income_portfolio_amount * income_spy_percentage / spy_close_price\n",
    "income_schz = income_portfolio_amount * income_schz_percentage / schz_close_price\n",
    "print(income_spy)\n",
    "print(income_schz)"
   ]
  },
  {
   "cell_type": "code",
   "execution_count": 82,
   "metadata": {},
   "outputs": [
    {
     "data": {
      "text/html": [
       "<div>\n",
       "<style scoped>\n",
       "    .dataframe tbody tr th:only-of-type {\n",
       "        vertical-align: middle;\n",
       "    }\n",
       "\n",
       "    .dataframe tbody tr th {\n",
       "        vertical-align: top;\n",
       "    }\n",
       "\n",
       "    .dataframe thead th {\n",
       "        text-align: right;\n",
       "    }\n",
       "</style>\n",
       "<table border=\"1\" class=\"dataframe\">\n",
       "  <thead>\n",
       "    <tr style=\"text-align: right;\">\n",
       "      <th></th>\n",
       "      <th>SCHZ</th>\n",
       "      <th>SPY</th>\n",
       "    </tr>\n",
       "  </thead>\n",
       "  <tbody>\n",
       "    <tr>\n",
       "      <th>2017-04-12</th>\n",
       "      <td>0.002118</td>\n",
       "      <td>-0.003999</td>\n",
       "    </tr>\n",
       "    <tr>\n",
       "      <th>2017-04-13</th>\n",
       "      <td>0.001153</td>\n",
       "      <td>-0.006664</td>\n",
       "    </tr>\n",
       "    <tr>\n",
       "      <th>2017-04-17</th>\n",
       "      <td>0.000000</td>\n",
       "      <td>0.008730</td>\n",
       "    </tr>\n",
       "    <tr>\n",
       "      <th>2017-04-18</th>\n",
       "      <td>0.003454</td>\n",
       "      <td>-0.003027</td>\n",
       "    </tr>\n",
       "    <tr>\n",
       "      <th>2017-04-19</th>\n",
       "      <td>-0.001339</td>\n",
       "      <td>-0.001668</td>\n",
       "    </tr>\n",
       "  </tbody>\n",
       "</table>\n",
       "</div>"
      ],
      "text/plain": [
       "                SCHZ       SPY\n",
       "2017-04-12  0.002118 -0.003999\n",
       "2017-04-13  0.001153 -0.006664\n",
       "2017-04-17  0.000000  0.008730\n",
       "2017-04-18  0.003454 -0.003027\n",
       "2017-04-19 -0.001339 -0.001668"
      ]
     },
     "execution_count": 82,
     "metadata": {},
     "output_type": "execute_result"
    }
   ],
   "source": [
    "income_portfolio_returns = df_closingprice.pct_change()\n",
    "income_portfolio_returns = income_portfolio_returns.dropna().copy()\n",
    "income_portfolio_returns.head()"
   ]
  },
  {
   "cell_type": "code",
   "execution_count": null,
   "metadata": {},
   "outputs": [],
   "source": []
  },
  {
   "cell_type": "code",
   "execution_count": 87,
   "metadata": {},
   "outputs": [
    {
     "ename": "TypeError",
     "evalue": "dot() takes 2 positional arguments but 3 were given",
     "output_type": "error",
     "traceback": [
      "\u001b[0;31m---------------------------------------------------------------------------\u001b[0m",
      "\u001b[0;31mTypeError\u001b[0m                                 Traceback (most recent call last)",
      "\u001b[0;32m<ipython-input-87-fd4ecd7a58d0>\u001b[0m in \u001b[0;36m<module>\u001b[0;34m\u001b[0m\n\u001b[1;32m      1\u001b[0m \u001b[0mincome_portfolio_cumulative_returns\u001b[0m \u001b[0;34m=\u001b[0m \u001b[0;34m(\u001b[0m\u001b[0;36m1\u001b[0m \u001b[0;34m+\u001b[0m \u001b[0mincome_portfolio_returns\u001b[0m\u001b[0;34m)\u001b[0m\u001b[0;34m.\u001b[0m\u001b[0mcumprod\u001b[0m\u001b[0;34m(\u001b[0m\u001b[0;34m)\u001b[0m\u001b[0;34m\u001b[0m\u001b[0;34m\u001b[0m\u001b[0m\n\u001b[1;32m      2\u001b[0m \u001b[0;31m#print(income_portfolio_cumulative_returns.shape)\u001b[0m\u001b[0;34m\u001b[0m\u001b[0;34m\u001b[0m\u001b[0;34m\u001b[0m\u001b[0m\n\u001b[0;32m----> 3\u001b[0;31m \u001b[0mpercent_pf\u001b[0m \u001b[0;34m=\u001b[0m \u001b[0mincome_portfolio_cumulative_returns\u001b[0m\u001b[0;34m.\u001b[0m\u001b[0mdot\u001b[0m\u001b[0;34m(\u001b[0m\u001b[0;34m[\u001b[0m\u001b[0;36m0.8\u001b[0m\u001b[0;34m]\u001b[0m\u001b[0;34m,\u001b[0m\u001b[0;34m[\u001b[0m\u001b[0;36m0.2\u001b[0m\u001b[0;34m]\u001b[0m\u001b[0;34m)\u001b[0m\u001b[0;34m\u001b[0m\u001b[0;34m\u001b[0m\u001b[0m\n\u001b[0m\u001b[1;32m      4\u001b[0m \u001b[0mprint\u001b[0m\u001b[0;34m(\u001b[0m\u001b[0mpercent_pf\u001b[0m\u001b[0;34m.\u001b[0m\u001b[0mshape\u001b[0m\u001b[0;34m)\u001b[0m\u001b[0;34m\u001b[0m\u001b[0;34m\u001b[0m\u001b[0m\n\u001b[1;32m      5\u001b[0m \u001b[0;31m#income_portfolio_cumulative_returns.plot(figsize=(20,10), title = \"Cumulative Returns\")\u001b[0m\u001b[0;34m\u001b[0m\u001b[0;34m\u001b[0m\u001b[0;34m\u001b[0m\u001b[0m\n",
      "\u001b[0;31mTypeError\u001b[0m: dot() takes 2 positional arguments but 3 were given"
     ]
    }
   ],
   "source": [
    "income_portfolio_cumulative_returns = (1 + income_portfolio_returns).cumprod()\n",
    "#print(income_portfolio_cumulative_returns.shape)\n",
    "percent_pf = income_portfolio_cumulative_returns.dot([0.8],[0.2])\n",
    "print(percent_pf.shape)\n",
    "#income_portfolio_cumulative_returns.plot(figsize=(20,10), title = \"Cumulative Returns\")"
   ]
  },
  {
   "cell_type": "code",
   "execution_count": null,
   "metadata": {},
   "outputs": [],
   "source": [
    "#Calculating initial traditional Balanced portfolio asset quantities"
   ]
  },
  {
   "cell_type": "code",
   "execution_count": null,
   "metadata": {},
   "outputs": [],
   "source": [
    "#Calculating initial traditional Growth portfolio asset quantities"
   ]
  },
  {
   "cell_type": "code",
   "execution_count": null,
   "metadata": {},
   "outputs": [],
   "source": []
  }
 ],
 "metadata": {
  "kernelspec": {
   "display_name": "Python [conda env:alpacaenv]",
   "language": "python",
   "name": "conda-env-alpacaenv-py"
  },
  "language_info": {
   "codemirror_mode": {
    "name": "ipython",
    "version": 3
   },
   "file_extension": ".py",
   "mimetype": "text/x-python",
   "name": "python",
   "nbconvert_exporter": "python",
   "pygments_lexer": "ipython3",
   "version": "3.7.9"
  }
 },
 "nbformat": 4,
 "nbformat_minor": 4
}
